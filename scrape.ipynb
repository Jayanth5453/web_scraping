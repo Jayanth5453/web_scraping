{
 "cells": [
  {
   "cell_type": "code",
   "execution_count": 131,
   "metadata": {},
   "outputs": [
    {
     "data": {
      "text/plain": [
       "6"
      ]
     },
     "execution_count": 131,
     "metadata": {},
     "output_type": "execute_result"
    }
   ],
   "source": [
    "2+2+2"
   ]
  },
  {
   "cell_type": "code",
   "execution_count": 132,
   "metadata": {},
   "outputs": [],
   "source": [
    "import requests\n",
    "from bs4 import BeautifulSoup as bs\n",
    "from urllib.request import urlopen as urReq,Request\n",
    "import pandas as pd\n",
    "headers = {\n",
    "    'User-Agent': 'Mozilla/5.0 (Windows NT 10.0; Win64; x64) AppleWebKit/537.36 (KHTML, like Gecko) Chrome/58.0.3029.110 Safari/537.36'\n",
    "}\n",
    "#phase=[0,1,2]\n",
    "#url = \"https://clinicaltrials.gov/ct2/results?cond=Acromegaly&age_v=&gndr=&type=&rslt=&phase={}&Search=Apply\".format(phase)\n",
    "  # create an empty list of dictionaries\n",
    "\n"
   ]
  },
  {
   "cell_type": "code",
   "execution_count": 41,
   "metadata": {},
   "outputs": [],
   "source": [
    "session = requests.Session()\n",
    "page_url = \"https://clinicaltrials.gov/ct2/results?cond=Acromegaly&age_v=&gndr=&type=&rslt=&phase=0&Search=Apply\"\n",
    "response = session.get(page_url, headers=headers)\n",
    "soup = bs(response.text, 'html.parser')"
   ]
  },
  {
   "cell_type": "code",
   "execution_count": 77,
   "metadata": {},
   "outputs": [],
   "source": [
    "soup.findAll('td')[0].a"
   ]
  },
  {
   "cell_type": "code",
   "execution_count": 18,
   "metadata": {},
   "outputs": [
    {
     "data": {
      "text/plain": [
       "[]"
      ]
     },
     "execution_count": 18,
     "metadata": {},
     "output_type": "execute_result"
    }
   ],
   "source": [
    "table"
   ]
  },
  {
   "cell_type": "code",
   "execution_count": 133,
   "metadata": {},
   "outputs": [],
   "source": [
    "import pandas as pd\n",
    "from selenium import webdriver\n",
    "from selenium.webdriver.common.keys import Keys\n",
    "from selenium.webdriver.common.by import By\n",
    "from selenium.webdriver.support.ui import WebDriverWait\n",
    "from selenium.webdriver.support import expected_conditions as EC\n",
    "from selenium.webdriver.common.action_chains import ActionChains\n",
    "from bs4 import BeautifulSoup\n",
    "import time"
   ]
  },
  {
   "cell_type": "code",
   "execution_count": 215,
   "metadata": {},
   "outputs": [],
   "source": [
    "url = \"https://clinicaltrials.gov/ct2/results?cond=Acromegaly&age_v=&gndr=&type=&rslt=&phase=0&phase=1&phase=2&Search=Apply\"\n",
    "\n",
    "driver = webdriver.Chrome()\n",
    "driver.maximize_window()\n",
    "driver.get(url)\n",
    "\n",
    "time.sleep(5)\n",
    "scrape=[]\n",
    "try:\n",
    "    for i in range(1):\n",
    "        max_button = WebDriverWait(driver, 10).until(EC.presence_of_element_located((By.XPATH, \"//*[@id='theDataTable_length']/label/select\")))\n",
    "        #next_button = WebDriverWait(driver, 10).until(EC.presence_of_element_located((By.XPATH, \"//*[@id='w2dc-controller-1e40a7376e81c181e5aa4f85616c4065']/div/div[4]/button\")))\n",
    "        max_button.click()\n",
    "        max_button_100 = WebDriverWait(driver, 10).until(EC.presence_of_element_located((By.XPATH, \"//*[@id='theDataTable_length']/label/select/option[4]\")))\n",
    "        max_button_100.click()\n",
    "        showbutton=WebDriverWait(driver, 10).until(EC.presence_of_element_located((By.XPATH, \"//*[@id='theDataTable_wrapper']/div[3]/button\")))\n",
    "        showbutton.click()\n",
    "        phasebutton=WebDriverWait(driver, 10).until(EC.presence_of_element_located((By.XPATH, \"//*[@id='theDataTable_wrapper']/div[3]/div[2]/button[5]\")))\n",
    "        phasebutton.click()\n",
    "        time.sleep(2)\n",
    "        html = driver.page_source\n",
    "        soup1 = BeautifulSoup(html, 'html.parser')\n",
    "        scrape.append(soup1)\n",
    "except:\n",
    "    pass\n",
    "\n",
    "html = driver.page_source\n",
    "\n",
    "soup1 = BeautifulSoup(html, 'html.parser')\n",
    "\n",
    "driver.quit()"
   ]
  },
  {
   "cell_type": "code",
   "execution_count": 186,
   "metadata": {},
   "outputs": [
    {
     "data": {
      "text/plain": [
       "<td class=\"dt-body-right\" tabindex=\"0\"><a id=\"rowId1\"></a>1</td>"
      ]
     },
     "execution_count": 186,
     "metadata": {},
     "output_type": "execute_result"
    }
   ],
   "source": [
    "soup1.find_all('tr')[4].find_all('td')[0]"
   ]
  },
  {
   "cell_type": "code",
   "execution_count": 179,
   "metadata": {},
   "outputs": [
    {
     "data": {
      "text/plain": [
       "'A Study to Evaluate the Safety and Efficacy of Paltusotine for the Treatment of Acromegaly (PATHFNDR-2)'"
      ]
     },
     "execution_count": 179,
     "metadata": {},
     "output_type": "execute_result"
    }
   ],
   "source": [
    "tr.find_all('td')[3].text"
   ]
  },
  {
   "cell_type": "code",
   "execution_count": 111,
   "metadata": {},
   "outputs": [
    {
     "data": {
      "text/plain": [
       "'1'"
      ]
     },
     "execution_count": 111,
     "metadata": {},
     "output_type": "execute_result"
    }
   ],
   "source": [
    "soup1.find_all('td',{\"class\":\"dt-body-right\"})[0].text"
   ]
  },
  {
   "cell_type": "code",
   "execution_count": 220,
   "metadata": {},
   "outputs": [
    {
     "data": {
      "text/plain": [
       "'62'"
      ]
     },
     "execution_count": 220,
     "metadata": {},
     "output_type": "execute_result"
    }
   ],
   "source": [
    "soup1.find_all('tr')[65].find_all('td')[0].text"
   ]
  },
  {
   "cell_type": "code",
   "execution_count": 217,
   "metadata": {},
   "outputs": [
    {
     "data": {
      "text/plain": [
       "66"
      ]
     },
     "execution_count": 217,
     "metadata": {},
     "output_type": "execute_result"
    }
   ],
   "source": [
    "len(soup1.find_all('tr'))"
   ]
  },
  {
   "cell_type": "code",
   "execution_count": 221,
   "metadata": {},
   "outputs": [
    {
     "data": {
      "text/plain": [
       "[{'row_no': '1',\n",
       "  'Status': 'CompletedHas\\xa0Results',\n",
       "  'Study_Title': 'Study to Determine the Maximum Tolerated Dose, Safety and Tolerability of a Single Dose of Lanreotide Prolonged Release Formulation (PRF) in Subjects With Acromegaly',\n",
       "  'Conditions': 'Acromegaly',\n",
       "  'Interventions': 'Drug: Lanreotide PRF',\n",
       "  'Locations': 'Antwerp University HospitalEdegem, BelgiumDomaine Universitaire Sart TilmanLiège, BelgiumFakultni nemocnice u sv. Anny v BrneBrno, Czechia(and 33 more...)',\n",
       "  'Phase': 'Phase 1Phase 2'},\n",
       " {'row_no': '2',\n",
       "  'Status': 'Active, not recruiting',\n",
       "  'Study_Title': 'A Study to Assess the Safety, Tolerability, and Efficacy of IONIS-GHR-LRx Administered in Patients With Acromegaly',\n",
       "  'Conditions': 'Acromegaly',\n",
       "  'Interventions': 'Drug: IONIS-GHR-LRx',\n",
       "  'Locations': 'Cedars-Sinai Medical CenterLos Angeles, California, United StatesMassachusetts General HospitalBoston, Massachusetts, United StatesPalm Research Center Inc.Las Vegas, Nevada, United States(and 19 more...)',\n",
       "  'Phase': 'Phase 2'},\n",
       " {'row_no': '3',\n",
       "  'Status': 'Completed',\n",
       "  'Study_Title': 'Extension Study of IONIS-GHR-LRx Administered to Participants With Acromegaly Being Treated With Long-acting Somatostatin Receptor Ligands',\n",
       "  'Conditions': 'Acromegaly',\n",
       "  'Interventions': 'Drug: IONIS GHR-LRxDrug: SRL',\n",
       "  'Locations': 'University of Alabama at BirminghamBirmingham, Alabama, United StatesNorthwestern UniversityEvanston, Illinois, United StatesPalm Research Center, Inc.Las Vegas, Nevada, United States(and 19 more...)',\n",
       "  'Phase': 'Phase 2'},\n",
       " {'row_no': '4',\n",
       "  'Status': 'CompletedHas\\xa0Results',\n",
       "  'Study_Title': 'Safety, Tolerability, and Efficacy of IONIS-GHR-LRx in Participants With Acromegaly Being Treated With Long-acting Somatostatin Receptor Ligands',\n",
       "  'Conditions': 'Acromegaly',\n",
       "  'Interventions': 'Drug: IONIS-GHR-LRxDrug: Placebo',\n",
       "  'Locations': \"University of Alabama at Birmingham (UAB)Birmingham, Alabama, United StatesSt. Joseph's Hospital and Medical CenterPhoenix, Arizona, United StatesNorthwestern UniversityChicago, Illinois, United States(and 30 more...)\",\n",
       "  'Phase': 'Phase 2'},\n",
       " {'row_no': '5',\n",
       "  'Status': 'Recruiting',\n",
       "  'Study_Title': 'A Study to Evaluate the Safety and Efficacy of Paltusotine for the Treatment of Acromegaly (PATHFNDR-2)',\n",
       "  'Conditions': 'Acromegaly',\n",
       "  'Interventions': 'Drug: PaltusotineDrug: Placebo',\n",
       "  'Locations': 'Crinetics Study SiteLos Angeles, California, United StatesCrinetics Study SiteTorrance, California, United StatesCrinetics Study SiteAurora, Colorado, United States(and 65 more...)',\n",
       "  'Phase': 'Phase 3'},\n",
       " {'row_no': '6',\n",
       "  'Status': 'Active, not recruiting',\n",
       "  'Study_Title': 'A Study to Evaluate the Safety and Efficacy of Paltusotine for the Treatment of Acromegaly',\n",
       "  'Conditions': 'Acromegaly',\n",
       "  'Interventions': 'Drug: PaltusotineDrug: Placebo',\n",
       "  'Locations': 'Crinetics Study SitePhoenix, Arizona, United StatesCrinetics Study SiteLos Angeles, California, United StatesCrinetics Study SiteTorrance, California, United States(and 43 more...)',\n",
       "  'Phase': 'Phase 3'},\n",
       " {'row_no': '7',\n",
       "  'Status': 'Active, not recruiting',\n",
       "  'Study_Title': 'A Study to Evaluate the Long-Term Safety and Efficacy of Paltusotine for the Treatment of Acromegaly (ACROBAT Advance)',\n",
       "  'Conditions': 'Acromegaly',\n",
       "  'Interventions': 'Drug: Paltusotine',\n",
       "  'Locations': 'Crinetics Study SiteLos Angeles, California, United StatesCrinetics Study SiteChicago, Illinois, United StatesCrinetics Study SiteBoston, Massachusetts, United States(and 15 more...)',\n",
       "  'Phase': 'Phase 2'},\n",
       " {'row_no': '8',\n",
       "  'Status': 'Recruiting',\n",
       "  'Study_Title': 'A Trial to Assess the Long-term Safety of Octreotide Subcutaneous Depot in Patients With Acromegaly',\n",
       "  'Conditions': 'Acromegaly',\n",
       "  'Interventions': 'Drug: CAM2029 (octreotide subcutaneous depot)',\n",
       "  'Locations': 'UCLA Department of Medicine Division of EndocrinologyLos Angeles, California, United StatesStanford University Medical CenterPalo Alto, California, United StatesPrufen Clinical Research LLCMiami, Florida, United States(and 65 more...)',\n",
       "  'Phase': 'Phase 3'},\n",
       " {'row_no': '9',\n",
       "  'Status': 'Active, not recruiting',\n",
       "  'Study_Title': 'A Trial to Assess Efficacy and Safety of Octreotide Subcutaneous Depot in Patients With Acromegaly',\n",
       "  'Conditions': 'Acromegaly',\n",
       "  'Interventions': 'Drug: CAM2029 (octreotide subcutaneous depot)Drug: Matching placebo',\n",
       "  'Locations': 'UCLA Department of Medicine Division of EndocrinologyLos Angeles, California, United StatesStanford University Medical CenterPalo Alto, California, United StatesPrufen Clinical Research LLCMiami, Florida, United States(and 60 more...)',\n",
       "  'Phase': 'Phase 3'},\n",
       " {'row_no': '10',\n",
       "  'Status': 'Completed',\n",
       "  'Study_Title': 'An Study to Evaluate the Safety and Efficacy of Paltusotine for the Treatment of Acromegaly (ACROBAT Edge)',\n",
       "  'Conditions': 'Acromegaly',\n",
       "  'Interventions': 'Drug: Paltusotine',\n",
       "  'Locations': 'Keck Medical Center of USC University of Southern CaliforniaLos Angeles, California, United StatesUCLA Gonda Diabetes CenterLos Angeles, California, United StatesNorthwestern University Feinberg School of MedicineChicago, Illinois, United States(and 42 more...)',\n",
       "  'Phase': 'Phase 2'},\n",
       " {'row_no': '11',\n",
       "  'Status': 'Completed',\n",
       "  'Study_Title': 'A Study to Evaluate the Safety and Efficacy of Paltusotine for the Treatment of Acromegaly (ACROBAT Evolve)',\n",
       "  'Conditions': 'Acromegaly',\n",
       "  'Interventions': 'Drug: PaltusotineDrug: Placebo',\n",
       "  'Locations': 'Keck Medical Center of USC University of Southern CaliforniaLos Angeles, California, United StatesUCLA Gonda Diabetes CenterLos Angeles, California, United StatesNorthwestern University Feinberg School of MedicineChicago, Illinois, United States(and 42 more...)',\n",
       "  'Phase': 'Phase 2'},\n",
       " {'row_no': '12',\n",
       "  'Status': 'CompletedHas\\xa0Results',\n",
       "  'Study_Title': 'Clomiphene Citrate for Treatment of Acromegaly',\n",
       "  'Conditions': 'Acromegaly',\n",
       "  'Interventions': 'Drug: Clomiphene Citrate',\n",
       "  'Locations': '',\n",
       "  'Phase': 'Phase 2'},\n",
       " {'row_no': '13',\n",
       "  'Status': 'CompletedHas\\xa0Results',\n",
       "  'Study_Title': 'Comparison of Oral Octreotide Capsules to Injectable Somatostatin Analogs in Acromegaly',\n",
       "  'Conditions': 'Acromegaly',\n",
       "  'Interventions': 'Drug: Octreotide capsules',\n",
       "  'Locations': 'University of Alabama at BirminghamBirmingham, Alabama, United StatesKeck Medical Center of University of Southern CaliforniaLos Angeles, California, United StatesCedars-Sinai Medical CenterLos Angeles, California, United States(and 50 more...)',\n",
       "  'Phase': 'Phase 3'},\n",
       " {'row_no': '14',\n",
       "  'Status': 'Completed',\n",
       "  'Study_Title': 'Strict IGF-1 Control in Acromegaly',\n",
       "  'Conditions': 'Acromegaly',\n",
       "  'Interventions': 'Drug: Pegvisomant',\n",
       "  'Locations': 'University of Alberta HospitalEdmonton, Alberta, CanadaSt. Joseph Health Care LondonLondon, Ontario, CanadaThe Ottawa HospitalOttawa, Ontario, Canada(and 2 more...)',\n",
       "  'Phase': 'Phase 3'},\n",
       " {'row_no': '15',\n",
       "  'Status': 'CompletedHas\\xa0Results',\n",
       "  'Study_Title': 'Pasireotide in Patients With Acromegaly Inadequately Controlled With First Generation Somatostatin Analogues',\n",
       "  'Conditions': 'Acromegaly',\n",
       "  'Interventions': 'Drug: Pasireotide LAR',\n",
       "  'Locations': 'Novartis Investigative SiteCaba, Buenos Aires, ArgentinaNovartis Investigative SiteCaba, Buenos Aires, ArgentinaNovartis Investigative SiteMar del Plata, Buenos Aires, Argentina(and 47 more...)',\n",
       "  'Phase': 'Phase 3'},\n",
       " {'row_no': '16',\n",
       "  'Status': 'TerminatedHas\\xa0Results',\n",
       "  'Study_Title': 'Assessment of BIM23B065, Given as Repeated Subcutaneous Injection in Subjects With Acromegaly',\n",
       "  'Conditions': 'Acromegaly',\n",
       "  'Interventions': 'Drug: BIM23B065',\n",
       "  'Locations': 'CHU de Liège, University of Liège, Domaine Universitaire du Sart-TilmanLiège, BelgiumMedical Centre, University of Pecs, I Department of Internal MedicinePecs, HungaryClinical Center of Serbia, Clinic for Endocrinology, Diabetes and Metabolic DiseasesBelgrade, Serbia(and 3 more...)',\n",
       "  'Phase': 'Phase 2'},\n",
       " {'row_no': '17',\n",
       "  'Status': 'CompletedHas\\xa0Results',\n",
       "  'Study_Title': 'Efficacy and Safety of Lanreotide Autogel® 60, 90 or 120 mg With Lanreotide 40 mg Prolonged Release (PR) in Acromegaly',\n",
       "  'Conditions': 'Acromegaly',\n",
       "  'Interventions': 'Drug: Lanreotide Autogel®Drug: Lanreotide Acetate',\n",
       "  'Locations': 'Peking Union Medical College HospitalBeijing, ChinaWest China Hospital, Sichuan UniversityChengdu, ChinaFujian Provincial HospitalFuzhou, China(and 7 more...)',\n",
       "  'Phase': 'Phase 3'},\n",
       " {'row_no': '18',\n",
       "  'Status': 'CompletedHas\\xa0Results',\n",
       "  'Study_Title': 'Efficacy and Safety of Octreotide (MYCAPSSA™ [Formerly Octreolin™]) for Acromegaly',\n",
       "  'Conditions': 'Acromegaly',\n",
       "  'Interventions': 'Drug: Octreotide capsules',\n",
       "  'Locations': 'Cedars-Sinai Medical CenterLos Angeles, California, United StatesCampus Charité MitteBerlin, GermanyENDOC Center for Endocrine TumorsHamburg, Germany(and 33 more...)',\n",
       "  'Phase': 'Phase 3'},\n",
       " {'row_no': '19',\n",
       "  'Status': 'Completed',\n",
       "  'Study_Title': 'Efficacy and Safety Study of Varying Doses of Lanreotide Autogel in Patients With Acromegaly',\n",
       "  'Conditions': 'Acromegaly',\n",
       "  'Interventions': 'Drug: Lanreotide (Autogel formulation)',\n",
       "  'Locations': 'Baptist Health System IncBirmingham, Alabama, United StatesPituitary CenterLos Angeles, California, United StatesNorthwestern Medical FacilityChicago, Illinois, United States(and 26 more...)',\n",
       "  'Phase': 'Phase 2Phase 3'},\n",
       " {'row_no': '20',\n",
       "  'Status': 'Terminated',\n",
       "  'Study_Title': 'Long-term Safety and Efficacy Study of Octreotide Implant in Patients With Acromegaly',\n",
       "  'Conditions': 'Acromegaly',\n",
       "  'Interventions': 'Drug: Octreotide',\n",
       "  'Locations': 'Denver, Colorado, United StatesChicago, Illinois, United StatesBaltimore, Maryland, United States(and 3 more...)',\n",
       "  'Phase': 'Phase 3'},\n",
       " {'row_no': '21',\n",
       "  'Status': 'CompletedHas\\xa0Results',\n",
       "  'Study_Title': 'Safety and Efficacy of Pasireotide Long Acting Release (LAR) vs. Octreotide LAR in Patients With Active Acromegaly',\n",
       "  'Conditions': 'Acromegaly',\n",
       "  'Interventions': 'Drug: PasireotideDrug: Octreotide',\n",
       "  'Locations': 'Cedars Sinai Medical Center The Pituitary CenterLos Angeles, California, United StatesUniversity of California at Los Angeles Division of EndocrinologyLos Angeles, California, United StatesStanford University Medical Center Stanford Cancer Center (3)Stanford, California, United States(and 92 more...)',\n",
       "  'Phase': 'Phase 3'},\n",
       " {'row_no': '22',\n",
       "  'Status': 'CompletedHas\\xa0Results',\n",
       "  'Study_Title': 'Efficacy and Safety of Pasireotide Long Acting Release (LAR) Versus Octreotide LAR or Lanreotide Autogel (ATG) in Patients With Inadequately Controlled Acromegaly',\n",
       "  'Conditions': 'Acromegaly',\n",
       "  'Interventions': 'Drug: PasireotideDrug: octreotide LAR 30mgDrug: lanreotide ATG 120mg',\n",
       "  'Locations': 'University of MichiganAnn Arbor, Michigan, United StatesOregon Health & Science UniversityPortland, Oregon, United StatesUniversity of Texas Southwestern Medical Center Division of Hematology/OncologDallas, Texas, United States(and 57 more...)',\n",
       "  'Phase': 'Phase 3'},\n",
       " {'row_no': '23',\n",
       "  'Status': 'Unknown\\xa0†',\n",
       "  'Study_Title': 'Endocrine Cardiomyopathy: Response to Cyclic GMP PDE5 Inhibitors in Acromegaly Cardiomyopathy',\n",
       "  'Conditions': 'Acromegaly Cardiomyopathy',\n",
       "  'Interventions': 'Drug: Tadalafil',\n",
       "  'Locations': 'Elisa GiannettaRome, Italy',\n",
       "  'Phase': 'Phase 2'},\n",
       " {'row_no': '24',\n",
       "  'Status': 'Completed',\n",
       "  'Study_Title': 'Open Label Study of Octreotide Implant in Patients With Acromegaly',\n",
       "  'Conditions': 'Acromegaly',\n",
       "  'Interventions': 'Drug: octreotide acetate',\n",
       "  'Locations': '',\n",
       "  'Phase': 'Phase 2'},\n",
       " {'row_no': '25',\n",
       "  'Status': 'CompletedHas\\xa0Results',\n",
       "  'Study_Title': 'Assessment of the Ability of Subjects With Acromegaly or Their Partners to Administer Somatuline Autogel',\n",
       "  'Conditions': 'Acromegaly',\n",
       "  'Interventions': 'Drug: Somatuline Autogel (lanreotide acetate)Behavioral: Home administration',\n",
       "  'Locations': 'Diabetes and Endocrine AssociatesLa Mesa, California, United StatesCedars Sinai Medical CenterLos Angeles, California, United StatesDenver VA Medical CenterDenver, Colorado, United States(and 10 more...)',\n",
       "  'Phase': 'Phase 3'},\n",
       " {'row_no': '26',\n",
       "  'Status': 'Completed',\n",
       "  'Study_Title': 'Safety and Efficacy of Long-acting Repeatable Octreotide Acetate for Injectable Suspension vs. Surgery in Treatment-naïve Patients With Acromegaly',\n",
       "  'Conditions': 'Acromegaly',\n",
       "  'Interventions': 'Drug: Octreotide LAR',\n",
       "  'Locations': '',\n",
       "  'Phase': 'Phase 3'},\n",
       " {'row_no': '27',\n",
       "  'Status': 'Terminated',\n",
       "  'Study_Title': 'Efficacy and Safety Study of Octreotide Implant in Patients With Acromegaly',\n",
       "  'Conditions': 'Acromegaly',\n",
       "  'Interventions': 'Drug: Octreotide ImplantDrug: Sandostatin LAR Depot',\n",
       "  'Locations': 'Stanford University Medical Center - Stanford Hospitals and ClinicsPalo Alto, California, United StatesUniversity of Colorado - Veterans Administration Medical Center - EndocrinologyDenver, Colorado, United StatesGaliz ResearchMiami, Florida, United States(and 44 more...)',\n",
       "  'Phase': 'Phase 3'},\n",
       " {'row_no': '28',\n",
       "  'Status': 'Completed',\n",
       "  'Study_Title': 'Efficacy and Tolerability of Lanreotide (Autogel 120 mg) in Patients With Acromegaly',\n",
       "  'Conditions': 'Acromegaly',\n",
       "  'Interventions': 'Drug: lanreotide (Autogel formulation), duration of treatment 46-48 weeks',\n",
       "  'Locations': 'Ospedali Riuniti di BergamoBergamo, ItalyOspedale MaggioreBologna, ItalyClinica Medica - Sezione II Medicina EndocrinologiaBrescia, Italy(and 21 more...)',\n",
       "  'Phase': 'Phase 3'},\n",
       " {'row_no': '29',\n",
       "  'Status': 'Withdrawn',\n",
       "  'Study_Title': 'Study to Evaluate Patients With Acromegaly Treated With Lanreotide Autogel (Somatuline ATG)',\n",
       "  'Conditions': 'Acromegaly',\n",
       "  'Interventions': 'Drug: lanreotide (Autogel formulation)',\n",
       "  'Locations': 'Centro Médico Nacional Siglo XXI, IMSSMexico City, Mexico',\n",
       "  'Phase': 'Phase 2'},\n",
       " {'row_no': '30',\n",
       "  'Status': 'Unknown\\xa0†Has\\xa0Results',\n",
       "  'Study_Title': 'Efficacy and Safety of Octreotide Capsules (MYCAPSSA) in Acromegaly',\n",
       "  'Conditions': 'Acromegaly',\n",
       "  'Interventions': 'Drug: octreotide capsulesDrug: Matching placebo',\n",
       "  'Locations': 'Keck Medical Center of University of Southern CaliforniaLos Angeles, California, United StatesCedars-Sinai Medical CenterLos Angeles, California, United StatesUCLA Medical CenterLos Angeles, California, United States(and 57 more...)',\n",
       "  'Phase': 'Phase 3'},\n",
       " {'row_no': '31',\n",
       "  'Status': 'Completed',\n",
       "  'Study_Title': 'Effect of 120mg Somatuline Autogel at Different Dose Intervals (28, 42 or 56 Days) in Patients With Acromegaly',\n",
       "  'Conditions': 'Acromegaly',\n",
       "  'Interventions': 'Drug: lanreotide (Autogel formulation), duration of treatment 24-56 weeks, depending on dose interval',\n",
       "  'Locations': 'Klinikum InnenstadtMunich, Germany',\n",
       "  'Phase': 'Phase 3'},\n",
       " {'row_no': '32',\n",
       "  'Status': 'CompletedHas\\xa0Results',\n",
       "  'Study_Title': 'Efficacy/Safety of Octreotide Acetate in Patients With Uncontrolled Acromegaly',\n",
       "  'Conditions': 'Acromegaly',\n",
       "  'Interventions': 'Drug: Octreotide acetate 30 mg suspension',\n",
       "  'Locations': 'Novartis Investigative SiteBrescia, Italy',\n",
       "  'Phase': 'Phase 3'},\n",
       " {'row_no': '33',\n",
       "  'Status': 'Recruiting',\n",
       "  'Study_Title': 'A Study to Assess the Pharmacokinetics, Pharmacodynamics, Safety, and Tolerability of Debio 4126 in Participants With Acromegaly or Functioning Gastroenteropancreatic Neuroendocrine Tumors (GEP-NETs)',\n",
       "  'Conditions': 'AcromegalyGEP-NET',\n",
       "  'Interventions': 'Drug: Debio 4126Drug: Sandostatin LARDrug: Somatuline ATG',\n",
       "  'Locations': 'Rigshospitalet, Endokrinologisk afdelingCopenaghen, DenmarkCHU AngersAngers, FranceAP-HP Hopital BicetreLe Kremlin-bicetre, France(and 32 more...)',\n",
       "  'Phase': 'Phase 1'},\n",
       " {'row_no': '34',\n",
       "  'Status': 'CompletedHas\\xa0Results',\n",
       "  'Study_Title': 'Phase II Study of Subcutaneous Inj. Depot of Octreotide in Patients With Acromegaly and Neuroendocrine Tumours (NETs)',\n",
       "  'Conditions': 'AcromegalyNeuroendocrine Tumors',\n",
       "  'Interventions': 'Drug: octreotide FluidCrystal® injection depot',\n",
       "  'Locations': 'Hospices Civils de LyonBron, FranceCHU Rouen, Hôpital Charles NicolleRouen cedex, FranceAbteilung: Klinische StudienBad Berka, Germany(and 7 more...)',\n",
       "  'Phase': 'Phase 2'},\n",
       " {'row_no': '35',\n",
       "  'Status': 'CompletedHas\\xa0Results',\n",
       "  'Study_Title': 'An Extension Study to Assess the Long-Term Safety and Efficacy of Pasireotide in Participants With Acromegaly',\n",
       "  'Conditions': 'Acromegaly',\n",
       "  'Interventions': 'Drug: Pasireotide',\n",
       "  'Locations': 'Cedars Sinai Medical Center Dept. of Pituitary Ctr.Los Angeles, California, United StatesUniversity of Michigan Health System StudyCoordinatorCSOM230B2201E1Ann Arbor, Michigan, United StatesNYU / VA Medical CenterNew York, New York, United States(and 7 more...)',\n",
       "  'Phase': 'Phase 2'},\n",
       " {'row_no': '36',\n",
       "  'Status': 'TerminatedHas\\xa0Results',\n",
       "  'Study_Title': 'Study to Assess the Efficacy and Safety of Repeated Administration of BIM 23A760 in Patients With Acromegaly',\n",
       "  'Conditions': 'Acromegaly',\n",
       "  'Interventions': 'Drug: BIM 23A760',\n",
       "  'Locations': 'Pituitary CenterLos Angeles, California, United StatesMassachusetts General Hospital / Neuroendocrine UnitBoston, Massachusetts, United StatesOregon University, Dept. of Endocrinology and NeurosurgeryPortland, Oregon, United States(and 20 more...)',\n",
       "  'Phase': 'Phase 2'},\n",
       " {'row_no': '37',\n",
       "  'Status': 'CompletedHas\\xa0Results',\n",
       "  'Study_Title': 'Efficacy and Safety of Pasireotide LAR (Long-acting Release) in Japanese Patients With Acromegaly or Pituitary Gigantism',\n",
       "  'Conditions': 'AcromegalyPituitary Gigantism',\n",
       "  'Interventions': 'Drug: Pasireotide LAR',\n",
       "  'Locations': 'Novartis Investigative SiteNagoya, Aichi, JapanNovartis Investigative SiteToyoake city, Aichi, JapanNovartis Investigative SiteFukuoka city, Fukuoka, Japan(and 24 more...)',\n",
       "  'Phase': 'Phase 2'},\n",
       " {'row_no': '38',\n",
       "  'Status': 'Completed',\n",
       "  'Study_Title': 'Study of Pasireotide Long Acting Release (LAR) Injection in Patients With Acromegaly and Patients With Carcinoid Disease',\n",
       "  'Conditions': 'Carcinoid TumorAcromegaly',\n",
       "  'Interventions': 'Drug: Pasireotide',\n",
       "  'Locations': 'Cedars Sinai Medical Center SC - 4Los Angeles, California, United StatesStanford University Medical Center Stanford Cancer Center (3)Stanford, California, United StatesH. Lee Moffitt Cancer Center & Research Institute Dept.of H.LeeMoffittCC&RI(1)Tampa, Florida, United States(and 14 more...)',\n",
       "  'Phase': 'Phase 1'},\n",
       " {'row_no': '39',\n",
       "  'Status': 'Completed',\n",
       "  'Study_Title': 'Long Term Study With B2036-PEG',\n",
       "  'Conditions': 'Acromegaly',\n",
       "  'Interventions': 'Drug: Pegvisomant',\n",
       "  'Locations': 'Pfizer Investigational SiteKobe City, Hyogo Pref, JapanPfizer Investigational SiteKozukue-cho, Kouhoku-ku, Yokohama-shi, Kanagawa, JapanPfizer Investigational SiteHamamatsu-shi, Shizuoka-ken, Japan(and 5 more...)',\n",
       "  'Phase': 'Phase 3'},\n",
       " {'row_no': '40',\n",
       "  'Status': 'Terminated',\n",
       "  'Study_Title': 'Safety and Biological Activity of C2L-OCT-01 PR in Acromegalic Patients',\n",
       "  'Conditions': 'Acromegaly',\n",
       "  'Interventions': 'Drug: C2L-OCT-01 PR, 10 or 20 mgDrug: C2L-OCT-01 PR, 20 mg',\n",
       "  'Locations': 'UCLA Medical Center Division of NeurosurgeryLos Angeles, California, United StatesStanford University Medical CenterStanford, California, United StatesKaleida Health/Diabetes Center of WNYBuffalo, New York, United States(and 7 more...)',\n",
       "  'Phase': 'Phase 3'},\n",
       " {'row_no': '41',\n",
       "  'Status': 'Completed',\n",
       "  'Study_Title': 'Open Label Extension Study Evaluating Safety and Biological Activity of C2L-OCT-01 PR in Acromegalic Patients',\n",
       "  'Conditions': 'Acromegaly',\n",
       "  'Interventions': 'Drug: C2L-OCT-01 PR 30 mg',\n",
       "  'Locations': 'Republican Centre for Medical Rehabilitation and Water-therapyMinsk, BelarusSemmelweis Egyetem Altalanos OrvostudomanyiBudapest, HungaryInstitue of Endocrinology \"C.I Parhon\" BucharestBucharest, Romania(and 3 more...)',\n",
       "  'Phase': 'Phase 3'},\n",
       " {'row_no': '42',\n",
       "  'Status': 'Completed',\n",
       "  'Study_Title': 'Efficacy and Safety of C2L-OCT-01 PR in Acromegalic Patients',\n",
       "  'Conditions': 'Acromegaly',\n",
       "  'Interventions': 'Drug: C2L-OCT-01 PR, 30 mgDrug: Octreotide acetate prolonged release, 30 mg',\n",
       "  'Locations': 'Republican Centre for Medical Rehabilitation and Water-therapyMinsk, BelarusSemmelweis Egyetem Általános OrvostudományiBudapest, HungaryInstitute of Endocrinology \"C. I. Parhon\" BucharestBucharest, Romania(and 3 more...)',\n",
       "  'Phase': 'Phase 3'},\n",
       " {'row_no': '43',\n",
       "  'Status': 'RecruitingNew',\n",
       "  'Study_Title': 'A Single-dose Study of Octreotide Injection in Healthy Adult Subjects',\n",
       "  'Conditions': 'Acromegaly',\n",
       "  'Interventions': 'Drug: SYHX2008 injectionDrug: Octreotide Acetate Microspheres for Injection injectionDrug: Sandostatin ® injectionDrug: Placebo to SYHX2008 injection',\n",
       "  'Locations': 'Beijing Anzhen Hospital, Capital Medical UniversityBeijing, Beijing, China',\n",
       "  'Phase': 'Phase 1'},\n",
       " {'row_no': '44',\n",
       "  'Status': 'Completed',\n",
       "  'Study_Title': 'Study Comparing SOM230 Subcutaneously and Sandostatin Subcutaneously in Acromegalic Patients',\n",
       "  'Conditions': 'Acromegaly',\n",
       "  'Interventions': 'Drug: Pasireotide (SOM230), Octreotide (Sandostatin)',\n",
       "  'Locations': 'Cedars Sinai Medical CenterLos Angeles, California, United StatesMassachusetts General HospitalBoston, Massachusetts, United StatesUniversity of Michigan Medical CenterAnn Arbor, Michigan, United States(and 2 more...)',\n",
       "  'Phase': 'Phase 2'},\n",
       " {'row_no': '45',\n",
       "  'Status': 'Unknown\\xa0†',\n",
       "  'Study_Title': 'Preoperative Lanreotide Treatment in Acromegalic Patients With Macroadenomas',\n",
       "  'Conditions': 'Acromegaly',\n",
       "  'Interventions': 'Drug: Preoperative lanreotide treatmentProcedure: Transsphenoidal surgery',\n",
       "  'Locations': 'Department of Neurosurgery, The First Affiliated Hospital of Sun Yat-sen UniversityGuangzhou, Guangdong, China',\n",
       "  'Phase': 'Phase 2'},\n",
       " {'row_no': '46',\n",
       "  'Status': 'Completed',\n",
       "  'Study_Title': 'Single-dose Study to Evaluate the Absolute Bioavailability and Mass Balance of ONO-5788',\n",
       "  'Conditions': 'Acromegaly',\n",
       "  'Interventions': 'Drug: ONO-5788Drug: [14C]-ONO-5788',\n",
       "  'Locations': 'PRA-EDSGroningen, NZ, Netherlands',\n",
       "  'Phase': 'Phase 1'},\n",
       " {'row_no': '47',\n",
       "  'Status': 'Completed',\n",
       "  'Study_Title': 'Safety and Efficacy of Octreotide Long Acting Release (LAR) in Treatment Naïve Acromegalic Patients',\n",
       "  'Conditions': 'Acromegaly',\n",
       "  'Interventions': 'Drug: Octreotide LAR',\n",
       "  'Locations': '',\n",
       "  'Phase': 'Phase 3'},\n",
       " {'row_no': '48',\n",
       "  'Status': 'Terminated',\n",
       "  'Study_Title': 'A Four-Part Study to Assess the Safety, Tolerability, PK and PD of ONO-5788 in Healthy Adult Volunteers',\n",
       "  'Conditions': 'Acromegaly',\n",
       "  'Interventions': 'Drug: ONO-5788Drug: ONO-5788 PlaceboDrug: Octreotide',\n",
       "  'Locations': 'CelerionTempe, Arizona, United States',\n",
       "  'Phase': 'Phase 1'},\n",
       " {'row_no': '49',\n",
       "  'Status': 'CompletedHas\\xa0Results',\n",
       "  'Study_Title': 'Single Dose Pharmacology Study of DG3173 and Octreotide in Acromegalic Patients.',\n",
       "  'Conditions': 'Acromegaly',\n",
       "  'Interventions': 'Drug: octreotideDrug: DG3173',\n",
       "  'Locations': '',\n",
       "  'Phase': 'Phase 2'},\n",
       " {'row_no': '50',\n",
       "  'Status': 'CompletedHas\\xa0Results',\n",
       "  'Study_Title': 'The Effect of Subcutaneous Infusions of 3 Doses of DG3173 on Growth Hormone Levels in Untreated Acromegalics',\n",
       "  'Conditions': 'Acromegaly',\n",
       "  'Interventions': 'Drug: salineDrug: DG3173Drug: octreotide',\n",
       "  'Locations': '',\n",
       "  'Phase': 'Phase 2'},\n",
       " {'row_no': '51',\n",
       "  'Status': 'Completed',\n",
       "  'Study_Title': 'Phase II Study With ITF2984 in Acromegalic Patients',\n",
       "  'Conditions': 'Acromegaly',\n",
       "  'Interventions': 'Drug: OctreotideDrug: ITF2984 500 mcgDrug: ITF2984 1000 mcgDrug: ITF2984 2000 mcg',\n",
       "  'Locations': 'St. Anne University HospitalBrno, Czech RepublicUniversity Hospital Hradec KraloveHradec Kralove, Czech RepublicUniversité Hôpital BicêtreLe Kremlin-Bicêtre, France(and 23 more...)',\n",
       "  'Phase': 'Phase 2'},\n",
       " {'row_no': '52',\n",
       "  'Status': 'Completed',\n",
       "  'Study_Title': 'Sandostatin LAR Depot vs. Surgery for Treating Acromegaly',\n",
       "  'Conditions': 'AcromegalyPituitary Neoplasm',\n",
       "  'Interventions': 'Drug: Sandostatin LAR Depot versus transsphenoidal surgery',\n",
       "  'Locations': 'National Institute of Diabetes and Digestive and Kidney Diseases (NIDDK)Bethesda, Maryland, United States',\n",
       "  'Phase': 'Phase 2'},\n",
       " {'row_no': '53',\n",
       "  'Status': 'Suspended',\n",
       "  'Study_Title': 'Pharmacodynamics Of Product Octreotide Acetate Lar 30 Mg Compared To Product Sandostatin LAR ®',\n",
       "  'Conditions': 'Acromegaly',\n",
       "  'Interventions': 'Drug: Octreotide acetate LARDrug: Sandostatin LAR ® (octreotide acetate LAR) 30 MG',\n",
       "  'Locations': 'LAL Clínica Pesquisa e Desenvolvimento LtdaValinhos, São Paulo, Brazil',\n",
       "  'Phase': 'Phase 1'},\n",
       " {'row_no': '54',\n",
       "  'Status': 'CompletedHas\\xa0Results',\n",
       "  'Study_Title': 'Lanreotide as Primary Treatment for Acromegalic Patients With Pituitary Gland Macroadenoma',\n",
       "  'Conditions': 'Acromegaly',\n",
       "  'Interventions': 'Drug: Lanreotide autogel 120 mg',\n",
       "  'Locations': 'University Hospital AntwerpenEdegem, BelgiumVšeobecná fakultní nemocnice, Karlova UniverzitaPraha, CzechiaHelsinki University Center HospitalHelsinki, Finland(and 24 more...)',\n",
       "  'Phase': 'Phase 3'},\n",
       " {'row_no': '55',\n",
       "  'Status': 'CompletedHas\\xa0Results',\n",
       "  'Study_Title': 'Lanreotide Autogel and Pegvisomant Combination Therapy in Acromegalic Patients',\n",
       "  'Conditions': 'Acromegaly',\n",
       "  'Interventions': 'Drug: lanreotide (Autogel formulation)Drug: Pegvisomant',\n",
       "  'Locations': 'University Hospital, Charles UniversityHradec Kralove, CzechiaCharles UniversityPrague, CzechiaAarhus KommunehospitalAarhus, Denmark(and 21 more...)',\n",
       "  'Phase': 'Phase 3'},\n",
       " {'row_no': '56',\n",
       "  'Status': 'Unknown\\xa0†',\n",
       "  'Study_Title': 'Estrogen Treatment in Acromegalic Women',\n",
       "  'Conditions': 'Acromegaly',\n",
       "  'Interventions': 'Drug: Alesse',\n",
       "  'Locations': 'CHUM - Notre-Dame HospitalMontreal, Quebec, Canada',\n",
       "  'Phase': 'Phase 2'},\n",
       " {'row_no': '57',\n",
       "  'Status': 'Completed',\n",
       "  'Study_Title': 'Efficacy and Safety of Lanreotide Autogel (60, 90 or 120 mg) in Acromegalic Patients',\n",
       "  'Conditions': 'Acromegaly',\n",
       "  'Interventions': 'Drug: Lanreotide (Autogel formulation)',\n",
       "  'Locations': \"Hôpital SudAmiens, FranceChu d'AngersAngers, FranceHôpital de Bois GuillaumeBois Guillaume, France(and 14 more...)\",\n",
       "  'Phase': 'Phase 3'},\n",
       " {'row_no': '58',\n",
       "  'Status': 'Unknown\\xa0†',\n",
       "  'Study_Title': 'Multicenter Evaluation of the Effect of Upfront Radiosurgery on Residual Growth Hormone-secreting Pituitary Adenoma',\n",
       "  'Conditions': 'Acromegaly Due to Pituitary Adenoma',\n",
       "  'Interventions': 'Radiation: Gamma knife radiosurgeryDrug: Lanreotide 60Mg Solution for Injection',\n",
       "  'Locations': 'Samsung Medical CenterSeoul, Korea, Republic of',\n",
       "  'Phase': 'Phase 3'},\n",
       " {'row_no': '59',\n",
       "  'Status': 'Recruiting',\n",
       "  'Study_Title': 'Safety and Efficacy of Pegvisomant in Children With Growth Hormone Excess',\n",
       "  'Conditions': 'Pituitary Disease',\n",
       "  'Interventions': 'Drug: Pegvisomant',\n",
       "  'Locations': 'National Institutes of Health Clinical CenterBethesda, Maryland, United States',\n",
       "  'Phase': 'Phase 3'},\n",
       " {'row_no': '60',\n",
       "  'Status': 'Completed',\n",
       "  'Study_Title': 'Vitamin D Metabolism in Patients With Endocrine Disorders',\n",
       "  'Conditions': 'Pituitary ACTH HypersecretionAcromegalyDiabetes Mellitus, Type 1Primary Hyperparathyroidism',\n",
       "  'Interventions': 'Drug: Cholecalciferol 15000 UNT/ML Oral Solution',\n",
       "  'Locations': 'Endocrinology Research Centre, MoscowMoscow, Russian Federation',\n",
       "  'Phase': 'Phase 1'},\n",
       " {'row_no': '61',\n",
       "  'Status': 'Completed',\n",
       "  'Study_Title': 'A Study of the Effects of Pegvisomant on Growth Hormone Excess in McCune-Albright Syndrome',\n",
       "  'Conditions': 'McCune Albright SyndromePolyostotic Fibrous Dysplasia',\n",
       "  'Interventions': 'Drug: Pegvisomant',\n",
       "  'Locations': 'National Institute of Dental And Craniofacial Research (NIDCR)Bethesda, Maryland, United States',\n",
       "  'Phase': 'Phase 3'},\n",
       " {'row_no': '62',\n",
       "  'Status': 'Terminated',\n",
       "  'Study_Title': 'Ga-68-DOTATOC -PET in the Management of Pituitary Tumours',\n",
       "  'Conditions': 'Pituitary Tumours',\n",
       "  'Interventions': 'Drug: Gallium-68 DOTATOC PET',\n",
       "  'Locations': 'Center of Endocrinology and Metabolism, Sahlgrenska university HospitalGöteborg, Sweden',\n",
       "  'Phase': 'Phase 3'}]"
      ]
     },
     "execution_count": 221,
     "metadata": {},
     "output_type": "execute_result"
    }
   ],
   "source": [
    "metadata=[]\n",
    "for row in range(4,len(soup1.find_all('tr'))):\n",
    "    phase3={}\n",
    "    row_no=soup1.find_all('tr')[row].find_all('td')[0].text\n",
    "    phase3['row_no']=row_no\n",
    "    Status=soup1.find_all('tr')[row].find_all('td')[2].text\n",
    "    phase3['Status']=Status\n",
    "    Study_Title=soup1.find_all('tr')[row].find_all('td')[3].text\n",
    "    phase3['Study_Title']=Study_Title\n",
    "    Conditions=soup1.find_all('tr')[row].find_all('td')[4].text\n",
    "    phase3['Conditions']=Conditions\n",
    "    Interventions=soup1.find_all('tr')[row].find_all('td')[5].text\n",
    "    phase3['Interventions']=Interventions\n",
    "    Locations=soup1.find_all('tr')[row].find_all('td')[7].text\n",
    "    phase3['Locations']=Locations\n",
    "    Phase=soup1.find_all('tr')[row].find_all('td')[6].text\n",
    "    phase3['Phase']=Phase\n",
    "    metadata.append(phase3)\n",
    "metadata"
   ]
  },
  {
   "cell_type": "code",
   "execution_count": 222,
   "metadata": {},
   "outputs": [],
   "source": [
    "md1=pd.DataFrame(metadata)"
   ]
  },
  {
   "cell_type": "code",
   "execution_count": 223,
   "metadata": {},
   "outputs": [],
   "source": [
    "md1.to_excel('phase3.xlsx')"
   ]
  },
  {
   "cell_type": "code",
   "execution_count": 122,
   "metadata": {},
   "outputs": [
    {
     "data": {
      "text/plain": [
       "<tr class=\"odd parent\" role=\"row\"><td class=\"dt-body-right\" tabindex=\"0\"><a id=\"rowId1\"></a>1</td><td class=\"dt-body-center\"><input aria-label=\"Save Study NCT05364944 checkbox\" class=\"SavedStudyCB\" id=\"NCT05364944\" name=\"NCT05364944\" onchange=\"updateCart('NCT05364944');\" type=\"checkbox\"/></td><td><span style=\"color:#008500;\">Recruiting</span></td><td><a href=\"/ct2/show/NCT05364944?cond=Acromegaly&amp;phase=0&amp;draw=2&amp;rank=1\" title=\"Show study NCT05364944: A Study to Assess the Pharmacokinetics, Pharmacodynamics, Safety, and Tolerability of Debio 4126 in Participants With Acromegaly or Functioning Gastroenteropancreatic Neuroendocrine Tumors (GEP-NETs)\">A Study to Assess the Pharmacokinetics, Pharmacodynamics, Safety, and Tolerability of Debio 4126 in Participants With <span class=\"hit_inf\">Acromegaly</span> or Functioning Gastroenteropancreatic Neuroendocrine Tumors (GEP-NETs)</a></td><td><ul><li><span class=\"hit_inf\">Acromegaly</span></li><li>GEP-NET</li></ul></td><td><ul><li>Drug: Debio 4126</li><li>Drug: Sandostatin LAR</li><li>Drug: Somatuline ATG</li></ul></td><td><ul><li>Rigshospitalet, Endokrinologisk afdeling<br/>Copenaghen, Denmark</li><li>CHU Angers<br/>Angers, France</li><li>AP-HP Hopital Bicetre<br/>Le Kremlin-bicetre, France</li><li>(and 32 more...)</li></ul></td></tr>"
      ]
     },
     "execution_count": 122,
     "metadata": {},
     "output_type": "execute_result"
    }
   ],
   "source": [
    "soup1.find_all('tr',{'role':\"row\"})[1]"
   ]
  },
  {
   "cell_type": "code",
   "execution_count": 127,
   "metadata": {},
   "outputs": [
    {
     "data": {
      "text/plain": [
       "'1RecruitingA Study to Assess the Pharmacokinetics, Pharmacodynamics, Safety, and Tolerability of Debio 4126 in Participants With Acromegaly or Functioning Gastroenteropancreatic Neuroendocrine Tumors (GEP-NETs)AcromegalyGEP-NETDrug: Debio 4126Drug: Sandostatin LARDrug: Somatuline ATGRigshospitalet, Endokrinologisk afdelingCopenaghen, DenmarkCHU AngersAngers, FranceAP-HP Hopital BicetreLe Kremlin-bicetre, France(and 32 more...)'"
      ]
     },
     "execution_count": 127,
     "metadata": {},
     "output_type": "execute_result"
    }
   ],
   "source": [
    "soup1.find_all('tr',{'role':\"row\"})[1].text"
   ]
  },
  {
   "cell_type": "code",
   "execution_count": 90,
   "metadata": {},
   "outputs": [
    {
     "ename": "SyntaxError",
     "evalue": "closing parenthesis ')' does not match opening parenthesis '{' (791569338.py, line 1)",
     "output_type": "error",
     "traceback": [
      "\u001b[1;36m  Cell \u001b[1;32mIn [90], line 1\u001b[1;36m\u001b[0m\n\u001b[1;33m    soup1.findAll('td',{\"title\":{\"Show stud}y NCT05364944: A Study to Assess the Pharmacokinetics, Pharmacodynamics, Safety, and Tolerability of Debio 4126 in Participants With Acromegaly or Functioning Gastroenteropancreatic Neuroendocrine Tumors (GEP-NETs)\"})\u001b[0m\n\u001b[1;37m                                                                                                                                                                                                                                                                    ^\u001b[0m\n\u001b[1;31mSyntaxError\u001b[0m\u001b[1;31m:\u001b[0m closing parenthesis ')' does not match opening parenthesis '{'\n"
     ]
    }
   ],
   "source": [
    "soup1.findAll('td',{\"title\":{\"Show stud}y NCT05364944: A Study to Assess the Pharmacokinetics, Pharmacodynamics, Safety, and Tolerability of Debio 4126 in Participants With Acromegaly or Functioning Gastroenteropancreatic Neuroendocrine Tumors (GEP-NETs)\"})"
   ]
  },
  {
   "cell_type": "code",
   "execution_count": 86,
   "metadata": {},
   "outputs": [
    {
     "data": {
      "text/plain": [
       "[]"
      ]
     },
     "execution_count": 86,
     "metadata": {},
     "output_type": "execute_result"
    }
   ],
   "source": [
    "soup1.findAll('td',{'class':' dt-body-right'})"
   ]
  },
  {
   "cell_type": "code",
   "execution_count": null,
   "metadata": {},
   "outputs": [],
   "source": [
    "for offset in range(0, 3):\n",
    "    session = requests.Session()\n",
    "    page_url = \"https://clinicaltrials.gov/ct2/results?cond=Acromegaly&age_v=&gndr=&type=&rslt=&phase={}&Search=Apply\".format(offset)\n",
    "    response = session.get(page_url, headers=headers)\n",
    "    soup = bs(response.content, 'lxml')\n",
    "    table = soup.find_all(\"tbody\",{\"class\":\"list\"})\n",
    "    for i, row in enumerate(table[0].find_all('tr')):\n",
    "        phase1 = {}\n",
    "        players[offset+i] = player\n",
    "\n",
    "a2=pd.DataFrame()\n",
    "a2.to_excel()\n",
    "print()"
   ]
  },
  {
   "cell_type": "code",
   "execution_count": 87,
   "metadata": {},
   "outputs": [
    {
     "data": {
      "text/plain": [
       "[<td>\n",
       " <label class=\"ct-facetCB ct-filter\" for=\"eaIndividual\"><input class=\"ct-filter\" form=\"facetForm\" id=\"eaIndividual\" name=\"ea_idv\" onchange=\"$('input.sr-applyFacet').prop( 'disabled', false );\" type=\"checkbox\" value=\"Y\"/> Individual Patients</label>\n",
       " </td>,\n",
       " <td>\n",
       " <label class=\"ct-facetCB ct-filter\" for=\"eaIntermediate\"><input class=\"ct-filter\" form=\"facetForm\" id=\"eaIntermediate\" name=\"ea_int\" onchange=\"$('input.sr-applyFacet').prop( 'disabled', false );\" type=\"checkbox\" value=\"Y\"/> Intermediate-size Population</label>\n",
       " </td>,\n",
       " <td>\n",
       " <label class=\"ct-facetCB ct-filter\" for=\"eaTreatment\"><input class=\"ct-filter\" form=\"facetForm\" id=\"eaTreatment\" name=\"ea_tmt\" onchange=\"$('input.sr-applyFacet').prop( 'disabled', false );\" type=\"checkbox\" value=\"Y\"/> Treatment IND/Protocol</label>\n",
       " </td>]"
      ]
     },
     "execution_count": 87,
     "metadata": {},
     "output_type": "execute_result"
    }
   ],
   "source": [
    "soup.findAll(\"td\")"
   ]
  },
  {
   "cell_type": "code",
   "execution_count": 99,
   "metadata": {},
   "outputs": [],
   "source": [
    "data=pd.read_excel('test1.xlsx')"
   ]
  },
  {
   "cell_type": "code",
   "execution_count": 128,
   "metadata": {},
   "outputs": [],
   "source": [
    "data3=data"
   ]
  },
  {
   "cell_type": "code",
   "execution_count": 57,
   "metadata": {},
   "outputs": [
    {
     "data": {
      "text/plain": [
       "Index(['Unnamed: 0', 'Micheal', 'Robert', 'Emma', 'Sacrlet', 'Harry', 'Simon',\n",
       "       'Brandi', 'Alicia', 'Rina', 'Meghan'],\n",
       "      dtype='object')"
      ]
     },
     "execution_count": 57,
     "metadata": {},
     "output_type": "execute_result"
    }
   ],
   "source": [
    "data.columns"
   ]
  },
  {
   "cell_type": "code",
   "execution_count": 129,
   "metadata": {},
   "outputs": [
    {
     "data": {
      "text/html": [
       "<div>\n",
       "<style scoped>\n",
       "    .dataframe tbody tr th:only-of-type {\n",
       "        vertical-align: middle;\n",
       "    }\n",
       "\n",
       "    .dataframe tbody tr th {\n",
       "        vertical-align: top;\n",
       "    }\n",
       "\n",
       "    .dataframe thead th {\n",
       "        text-align: right;\n",
       "    }\n",
       "</style>\n",
       "<table border=\"1\" class=\"dataframe\">\n",
       "  <thead>\n",
       "    <tr style=\"text-align: right;\">\n",
       "      <th></th>\n",
       "      <th>Unnamed: 0</th>\n",
       "      <th>Micheal</th>\n",
       "      <th>Robert</th>\n",
       "      <th>Emma</th>\n",
       "      <th>Sacrlet</th>\n",
       "      <th>Harry</th>\n",
       "      <th>Simon</th>\n",
       "      <th>Brandi</th>\n",
       "      <th>Alicia</th>\n",
       "      <th>Rina</th>\n",
       "      <th>Meghan</th>\n",
       "    </tr>\n",
       "  </thead>\n",
       "  <tbody>\n",
       "    <tr>\n",
       "      <th>0</th>\n",
       "      <td>singing</td>\n",
       "      <td>1</td>\n",
       "      <td>1</td>\n",
       "      <td>2</td>\n",
       "      <td>-1</td>\n",
       "      <td>2</td>\n",
       "      <td>1</td>\n",
       "      <td>-2</td>\n",
       "      <td>-1</td>\n",
       "      <td>2</td>\n",
       "      <td>1</td>\n",
       "    </tr>\n",
       "    <tr>\n",
       "      <th>1</th>\n",
       "      <td>Dancing</td>\n",
       "      <td>1</td>\n",
       "      <td>1</td>\n",
       "      <td>2</td>\n",
       "      <td>-1</td>\n",
       "      <td>2</td>\n",
       "      <td>1</td>\n",
       "      <td>-2</td>\n",
       "      <td>-1</td>\n",
       "      <td>2</td>\n",
       "      <td>1</td>\n",
       "    </tr>\n",
       "    <tr>\n",
       "      <th>2</th>\n",
       "      <td>Sports</td>\n",
       "      <td>1</td>\n",
       "      <td>1</td>\n",
       "      <td>-1</td>\n",
       "      <td>-1</td>\n",
       "      <td>1</td>\n",
       "      <td>1</td>\n",
       "      <td>1</td>\n",
       "      <td>-1</td>\n",
       "      <td>-1</td>\n",
       "      <td>1</td>\n",
       "    </tr>\n",
       "    <tr>\n",
       "      <th>3</th>\n",
       "      <td>Mathematics</td>\n",
       "      <td>-1</td>\n",
       "      <td>-2</td>\n",
       "      <td>1</td>\n",
       "      <td>1</td>\n",
       "      <td>-1</td>\n",
       "      <td>-2</td>\n",
       "      <td>-2</td>\n",
       "      <td>1</td>\n",
       "      <td>-1</td>\n",
       "      <td>-2</td>\n",
       "    </tr>\n",
       "    <tr>\n",
       "      <th>4</th>\n",
       "      <td>Science</td>\n",
       "      <td>-1</td>\n",
       "      <td>-2</td>\n",
       "      <td>1</td>\n",
       "      <td>1</td>\n",
       "      <td>-1</td>\n",
       "      <td>-2</td>\n",
       "      <td>-2</td>\n",
       "      <td>1</td>\n",
       "      <td>-1</td>\n",
       "      <td>-2</td>\n",
       "    </tr>\n",
       "    <tr>\n",
       "      <th>5</th>\n",
       "      <td>Social</td>\n",
       "      <td>-2</td>\n",
       "      <td>-1</td>\n",
       "      <td>-1</td>\n",
       "      <td>2</td>\n",
       "      <td>1</td>\n",
       "      <td>-2</td>\n",
       "      <td>-1</td>\n",
       "      <td>-1</td>\n",
       "      <td>2</td>\n",
       "      <td>1</td>\n",
       "    </tr>\n",
       "  </tbody>\n",
       "</table>\n",
       "</div>"
      ],
      "text/plain": [
       "    Unnamed: 0  Micheal  Robert  Emma  Sacrlet  Harry  Simon  Brandi  Alicia  \\\n",
       "0      singing        1       1     2       -1      2      1      -2      -1   \n",
       "1      Dancing        1       1     2       -1      2      1      -2      -1   \n",
       "2       Sports        1       1    -1       -1      1      1       1      -1   \n",
       "3  Mathematics       -1      -2     1        1     -1     -2      -2       1   \n",
       "4      Science       -1      -2     1        1     -1     -2      -2       1   \n",
       "5       Social       -2      -1    -1        2      1     -2      -1      -1   \n",
       "\n",
       "   Rina  Meghan  \n",
       "0     2       1  \n",
       "1     2       1  \n",
       "2    -1       1  \n",
       "3    -1      -2  \n",
       "4    -1      -2  \n",
       "5     2       1  "
      ]
     },
     "execution_count": 129,
     "metadata": {},
     "output_type": "execute_result"
    }
   ],
   "source": [
    "data3"
   ]
  },
  {
   "cell_type": "code",
   "execution_count": 130,
   "metadata": {},
   "outputs": [
    {
     "name": "stderr",
     "output_type": "stream",
     "text": [
      "C:\\Users\\mohan\\AppData\\Local\\Temp\\ipykernel_24648\\1309869703.py:1: FutureWarning: The default value of numeric_only in DataFrame.corr is deprecated. In a future version, it will default to False. Select only valid columns or specify the value of numeric_only to silence this warning.\n",
      "  data3.corr()\n"
     ]
    },
    {
     "data": {
      "text/html": [
       "<div>\n",
       "<style scoped>\n",
       "    .dataframe tbody tr th:only-of-type {\n",
       "        vertical-align: middle;\n",
       "    }\n",
       "\n",
       "    .dataframe tbody tr th {\n",
       "        vertical-align: top;\n",
       "    }\n",
       "\n",
       "    .dataframe thead th {\n",
       "        text-align: right;\n",
       "    }\n",
       "</style>\n",
       "<table border=\"1\" class=\"dataframe\">\n",
       "  <thead>\n",
       "    <tr style=\"text-align: right;\">\n",
       "      <th></th>\n",
       "      <th>Micheal</th>\n",
       "      <th>Robert</th>\n",
       "      <th>Emma</th>\n",
       "      <th>Sacrlet</th>\n",
       "      <th>Harry</th>\n",
       "      <th>Simon</th>\n",
       "      <th>Brandi</th>\n",
       "      <th>Alicia</th>\n",
       "      <th>Rina</th>\n",
       "      <th>Meghan</th>\n",
       "    </tr>\n",
       "  </thead>\n",
       "  <tbody>\n",
       "    <tr>\n",
       "      <th>Micheal</th>\n",
       "      <td>1.000000</td>\n",
       "      <td>0.866186</td>\n",
       "      <td>0.403823</td>\n",
       "      <td>-1.000000</td>\n",
       "      <td>0.624090</td>\n",
       "      <td>0.961524</td>\n",
       "      <td>0.207079</td>\n",
       "      <td>-0.485643</td>\n",
       "      <td>0.137361</td>\n",
       "      <td>0.485643</td>\n",
       "    </tr>\n",
       "    <tr>\n",
       "      <th>Robert</th>\n",
       "      <td>0.866186</td>\n",
       "      <td>1.000000</td>\n",
       "      <td>0.129641</td>\n",
       "      <td>-0.866186</td>\n",
       "      <td>0.907485</td>\n",
       "      <td>0.970143</td>\n",
       "      <td>0.365636</td>\n",
       "      <td>-0.857493</td>\n",
       "      <td>0.485071</td>\n",
       "      <td>0.857493</td>\n",
       "    </tr>\n",
       "    <tr>\n",
       "      <th>Emma</th>\n",
       "      <td>0.403823</td>\n",
       "      <td>0.129641</td>\n",
       "      <td>1.000000</td>\n",
       "      <td>-0.403823</td>\n",
       "      <td>0.142857</td>\n",
       "      <td>0.267261</td>\n",
       "      <td>-0.805823</td>\n",
       "      <td>0.188982</td>\n",
       "      <td>0.267261</td>\n",
       "      <td>-0.188982</td>\n",
       "    </tr>\n",
       "    <tr>\n",
       "      <th>Sacrlet</th>\n",
       "      <td>-1.000000</td>\n",
       "      <td>-0.866186</td>\n",
       "      <td>-0.403823</td>\n",
       "      <td>1.000000</td>\n",
       "      <td>-0.624090</td>\n",
       "      <td>-0.961524</td>\n",
       "      <td>-0.207079</td>\n",
       "      <td>0.485643</td>\n",
       "      <td>-0.137361</td>\n",
       "      <td>-0.485643</td>\n",
       "    </tr>\n",
       "    <tr>\n",
       "      <th>Harry</th>\n",
       "      <td>0.624090</td>\n",
       "      <td>0.907485</td>\n",
       "      <td>0.142857</td>\n",
       "      <td>-0.624090</td>\n",
       "      <td>1.000000</td>\n",
       "      <td>0.801784</td>\n",
       "      <td>0.161165</td>\n",
       "      <td>-0.944911</td>\n",
       "      <td>0.801784</td>\n",
       "      <td>0.944911</td>\n",
       "    </tr>\n",
       "    <tr>\n",
       "      <th>Simon</th>\n",
       "      <td>0.961524</td>\n",
       "      <td>0.970143</td>\n",
       "      <td>0.267261</td>\n",
       "      <td>-0.961524</td>\n",
       "      <td>0.801784</td>\n",
       "      <td>1.000000</td>\n",
       "      <td>0.301511</td>\n",
       "      <td>-0.707107</td>\n",
       "      <td>0.333333</td>\n",
       "      <td>0.707107</td>\n",
       "    </tr>\n",
       "    <tr>\n",
       "      <th>Brandi</th>\n",
       "      <td>0.207079</td>\n",
       "      <td>0.365636</td>\n",
       "      <td>-0.805823</td>\n",
       "      <td>-0.207079</td>\n",
       "      <td>0.161165</td>\n",
       "      <td>0.301511</td>\n",
       "      <td>1.000000</td>\n",
       "      <td>-0.426401</td>\n",
       "      <td>-0.301511</td>\n",
       "      <td>0.426401</td>\n",
       "    </tr>\n",
       "    <tr>\n",
       "      <th>Alicia</th>\n",
       "      <td>-0.485643</td>\n",
       "      <td>-0.857493</td>\n",
       "      <td>0.188982</td>\n",
       "      <td>0.485643</td>\n",
       "      <td>-0.944911</td>\n",
       "      <td>-0.707107</td>\n",
       "      <td>-0.426401</td>\n",
       "      <td>1.000000</td>\n",
       "      <td>-0.707107</td>\n",
       "      <td>-1.000000</td>\n",
       "    </tr>\n",
       "    <tr>\n",
       "      <th>Rina</th>\n",
       "      <td>0.137361</td>\n",
       "      <td>0.485071</td>\n",
       "      <td>0.267261</td>\n",
       "      <td>-0.137361</td>\n",
       "      <td>0.801784</td>\n",
       "      <td>0.333333</td>\n",
       "      <td>-0.301511</td>\n",
       "      <td>-0.707107</td>\n",
       "      <td>1.000000</td>\n",
       "      <td>0.707107</td>\n",
       "    </tr>\n",
       "    <tr>\n",
       "      <th>Meghan</th>\n",
       "      <td>0.485643</td>\n",
       "      <td>0.857493</td>\n",
       "      <td>-0.188982</td>\n",
       "      <td>-0.485643</td>\n",
       "      <td>0.944911</td>\n",
       "      <td>0.707107</td>\n",
       "      <td>0.426401</td>\n",
       "      <td>-1.000000</td>\n",
       "      <td>0.707107</td>\n",
       "      <td>1.000000</td>\n",
       "    </tr>\n",
       "  </tbody>\n",
       "</table>\n",
       "</div>"
      ],
      "text/plain": [
       "          Micheal    Robert      Emma   Sacrlet     Harry     Simon    Brandi  \\\n",
       "Micheal  1.000000  0.866186  0.403823 -1.000000  0.624090  0.961524  0.207079   \n",
       "Robert   0.866186  1.000000  0.129641 -0.866186  0.907485  0.970143  0.365636   \n",
       "Emma     0.403823  0.129641  1.000000 -0.403823  0.142857  0.267261 -0.805823   \n",
       "Sacrlet -1.000000 -0.866186 -0.403823  1.000000 -0.624090 -0.961524 -0.207079   \n",
       "Harry    0.624090  0.907485  0.142857 -0.624090  1.000000  0.801784  0.161165   \n",
       "Simon    0.961524  0.970143  0.267261 -0.961524  0.801784  1.000000  0.301511   \n",
       "Brandi   0.207079  0.365636 -0.805823 -0.207079  0.161165  0.301511  1.000000   \n",
       "Alicia  -0.485643 -0.857493  0.188982  0.485643 -0.944911 -0.707107 -0.426401   \n",
       "Rina     0.137361  0.485071  0.267261 -0.137361  0.801784  0.333333 -0.301511   \n",
       "Meghan   0.485643  0.857493 -0.188982 -0.485643  0.944911  0.707107  0.426401   \n",
       "\n",
       "           Alicia      Rina    Meghan  \n",
       "Micheal -0.485643  0.137361  0.485643  \n",
       "Robert  -0.857493  0.485071  0.857493  \n",
       "Emma     0.188982  0.267261 -0.188982  \n",
       "Sacrlet  0.485643 -0.137361 -0.485643  \n",
       "Harry   -0.944911  0.801784  0.944911  \n",
       "Simon   -0.707107  0.333333  0.707107  \n",
       "Brandi  -0.426401 -0.301511  0.426401  \n",
       "Alicia   1.000000 -0.707107 -1.000000  \n",
       "Rina    -0.707107  1.000000  0.707107  \n",
       "Meghan  -1.000000  0.707107  1.000000  "
      ]
     },
     "execution_count": 130,
     "metadata": {},
     "output_type": "execute_result"
    }
   ],
   "source": [
    "data3.corr()"
   ]
  },
  {
   "cell_type": "code",
   "execution_count": 104,
   "metadata": {},
   "outputs": [
    {
     "data": {
      "text/html": [
       "<div>\n",
       "<style scoped>\n",
       "    .dataframe tbody tr th:only-of-type {\n",
       "        vertical-align: middle;\n",
       "    }\n",
       "\n",
       "    .dataframe tbody tr th {\n",
       "        vertical-align: top;\n",
       "    }\n",
       "\n",
       "    .dataframe thead th {\n",
       "        text-align: right;\n",
       "    }\n",
       "</style>\n",
       "<table border=\"1\" class=\"dataframe\">\n",
       "  <thead>\n",
       "    <tr style=\"text-align: right;\">\n",
       "      <th></th>\n",
       "    </tr>\n",
       "  </thead>\n",
       "  <tbody>\n",
       "  </tbody>\n",
       "</table>\n",
       "</div>"
      ],
      "text/plain": [
       "Empty DataFrame\n",
       "Columns: []\n",
       "Index: []"
      ]
     },
     "execution_count": 104,
     "metadata": {},
     "output_type": "execute_result"
    }
   ],
   "source": [
    "data1"
   ]
  },
  {
   "cell_type": "code",
   "execution_count": 97,
   "metadata": {},
   "outputs": [],
   "source": [
    "data1=pd.DataFrame(data1)"
   ]
  },
  {
   "cell_type": "code",
   "execution_count": 98,
   "metadata": {},
   "outputs": [],
   "source": [
    "data1.to_excel('corr.xlsx')"
   ]
  },
  {
   "cell_type": "code",
   "execution_count": 93,
   "metadata": {},
   "outputs": [],
   "source": [
    "import seaborn as sns\n",
    "import matplotlib_inline "
   ]
  },
  {
   "cell_type": "code",
   "execution_count": null,
   "metadata": {},
   "outputs": [],
   "source": []
  },
  {
   "cell_type": "code",
   "execution_count": 64,
   "metadata": {},
   "outputs": [],
   "source": [
    "import numpy as np"
   ]
  },
  {
   "cell_type": "code",
   "execution_count": 68,
   "metadata": {},
   "outputs": [],
   "source": [
    "data1 = np.array(data)"
   ]
  },
  {
   "cell_type": "code",
   "execution_count": 72,
   "metadata": {},
   "outputs": [
    {
     "ename": "AttributeError",
     "evalue": "module 'numpy' has no attribute 'corr'",
     "output_type": "error",
     "traceback": [
      "\u001b[1;31m---------------------------------------------------------------------------\u001b[0m",
      "\u001b[1;31mAttributeError\u001b[0m                            Traceback (most recent call last)",
      "Cell \u001b[1;32mIn [72], line 1\u001b[0m\n\u001b[1;32m----> 1\u001b[0m correlation \u001b[38;5;241m=\u001b[39m np\u001b[38;5;241m.\u001b[39mcorr(data1)\n",
      "File \u001b[1;32mc:\\Users\\mohan\\anaconda3\\envs\\inneuron\\lib\\site-packages\\numpy\\__init__.py:311\u001b[0m, in \u001b[0;36m__getattr__\u001b[1;34m(attr)\u001b[0m\n\u001b[0;32m    308\u001b[0m     \u001b[39mfrom\u001b[39;00m \u001b[39m.\u001b[39;00m\u001b[39mtesting\u001b[39;00m \u001b[39mimport\u001b[39;00m Tester\n\u001b[0;32m    309\u001b[0m     \u001b[39mreturn\u001b[39;00m Tester\n\u001b[1;32m--> 311\u001b[0m \u001b[39mraise\u001b[39;00m \u001b[39mAttributeError\u001b[39;00m(\u001b[39m\"\u001b[39m\u001b[39mmodule \u001b[39m\u001b[39m{!r}\u001b[39;00m\u001b[39m has no attribute \u001b[39m\u001b[39m\"\u001b[39m\n\u001b[0;32m    312\u001b[0m                      \u001b[39m\"\u001b[39m\u001b[39m{!r}\u001b[39;00m\u001b[39m\"\u001b[39m\u001b[39m.\u001b[39mformat(\u001b[39m__name__\u001b[39m, attr))\n",
      "\u001b[1;31mAttributeError\u001b[0m: module 'numpy' has no attribute 'corr'"
     ]
    }
   ],
   "source": [
    "correlation = np.corr(data1)"
   ]
  },
  {
   "cell_type": "code",
   "execution_count": null,
   "metadata": {},
   "outputs": [],
   "source": []
  }
 ],
 "metadata": {
  "kernelspec": {
   "display_name": "Python 3.9.13 ('inneuron')",
   "language": "python",
   "name": "python3"
  },
  "language_info": {
   "codemirror_mode": {
    "name": "ipython",
    "version": 3
   },
   "file_extension": ".py",
   "mimetype": "text/x-python",
   "name": "python",
   "nbconvert_exporter": "python",
   "pygments_lexer": "ipython3",
   "version": "3.9.13"
  },
  "orig_nbformat": 4,
  "vscode": {
   "interpreter": {
    "hash": "8d5fa25884562255630c661242490c7067f22b217630e330385c0ff92bebb1f5"
   }
  }
 },
 "nbformat": 4,
 "nbformat_minor": 2
}
